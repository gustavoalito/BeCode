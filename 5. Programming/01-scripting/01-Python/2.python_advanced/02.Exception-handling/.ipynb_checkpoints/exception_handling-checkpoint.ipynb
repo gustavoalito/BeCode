{
 "cells": [
  {
   "cell_type": "markdown",
   "metadata": {},
   "source": [
    "# Exception handling"
   ]
  },
  {
   "cell_type": "markdown",
   "metadata": {},
   "source": [
    "Exception handling allows a program to deal with runtime errors and continue its normal execution.\n",
    "Consider the following instructions:\n"
   ]
  },
  {
   "cell_type": "code",
   "execution_count": 6,
   "metadata": {},
   "outputs": [
    {
     "name": "stdout",
     "output_type": "stream",
     "text": [
      "Enter integer: 7\n",
      "7 0.14285714285714285\n"
     ]
    }
   ],
   "source": [
    "a = input(\"Enter integer: \")\n",
    "num = int(a)\n",
    "inverse = 1 / num\n",
    "print(num, inverse)"
   ]
  },
  {
   "cell_type": "markdown",
   "metadata": {},
   "source": [
    "What happens if the user enters a null or non-numeric value? The program will stop and raise an error as shown below."
   ]
  },
  {
   "cell_type": "markdown",
   "metadata": {},
   "source": [
    "```\n",
    "Traceback (most recent call last):\n",
    "File \"\", line 3, in\n",
    "<u>ZeroDivisionError: division by zero</u>\n",
    "```"
   ]
  },
  {
   "cell_type": "markdown",
   "metadata": {},
   "source": [
    "```\n",
    "Traceback (most recent call last):\n",
    "File \"\", line 2, in\n",
    "<b>ValueError: invalid literal for int() with base 10: 'sss'</b>\n",
    "```"
   ]
  },
  {
   "cell_type": "markdown",
   "metadata": {},
   "source": [
    "Error messages provide information about the line that caused the error by tracing back to the function calls that lead to this instruction. The line numbers of the function calls are displayed in the error message to enable quick correction of the code.  \n",
    "\n",
    "An error that occurs during execution is also called an exception. How can you deal with an exception so that the program can catch the error and prompt the user to enter a correct number?\n"
   ]
  },
  {
   "cell_type": "markdown",
   "metadata": {},
   "source": [
    "## try and except\n",
    "See the difference. \n",
    "In the first case, the program crashes and the last `print(\"finished\")` instruction did not execute.  "
   ]
  },
  {
   "cell_type": "code",
   "execution_count": 7,
   "metadata": {},
   "outputs": [
    {
     "ename": "ZeroDivisionError",
     "evalue": "division by zero",
     "output_type": "error",
     "traceback": [
      "\u001b[1;31m---------------------------------------------------------------------------\u001b[0m",
      "\u001b[1;31mZeroDivisionError\u001b[0m                         Traceback (most recent call last)",
      "Cell \u001b[1;32mIn[7], line 1\u001b[0m\n\u001b[1;32m----> 1\u001b[0m \u001b[38;5;241;43m3\u001b[39;49m\u001b[43m \u001b[49m\u001b[38;5;241;43m/\u001b[39;49m\u001b[43m \u001b[49m\u001b[38;5;241;43m0\u001b[39;49m\n\u001b[0;32m      2\u001b[0m \u001b[38;5;28mprint\u001b[39m(\u001b[38;5;124m\"\u001b[39m\u001b[38;5;124mFinished\u001b[39m\u001b[38;5;124m\"\u001b[39m)\n",
      "\u001b[1;31mZeroDivisionError\u001b[0m: division by zero"
     ]
    }
   ],
   "source": [
    "3 / 0\n",
    "print(\"Finished\")"
   ]
  },
  {
   "cell_type": "markdown",
   "metadata": {},
   "source": [
    "If the `try` instruction is used, the error is caught in the `except` clause, and the body of the `except` clause is executed. The program is not interrupted. "
   ]
  },
  {
   "cell_type": "code",
   "execution_count": 8,
   "metadata": {},
   "outputs": [
    {
     "name": "stdout",
     "output_type": "stream",
     "text": [
      "Not ok, there is an error\n",
      "Finished\n"
     ]
    }
   ],
   "source": [
    "try:\n",
    "    3 / 0\n",
    "except:\n",
    "    print(\"Not ok, there is an error\")\n",
    "\n",
    "print(\"Finished\")"
   ]
  },
  {
   "cell_type": "markdown",
   "metadata": {},
   "source": [
    "Now, we will try to avoid the exceptions mentioned above by rewriting our code as follows.   \n",
    "We have the ability to capture the type of exception."
   ]
  },
  {
   "cell_type": "code",
   "execution_count": 9,
   "metadata": {},
   "outputs": [
    {
     "name": "stdout",
     "output_type": "stream",
     "text": [
      "Error: You can't divide by zero\n"
     ]
    }
   ],
   "source": [
    "try:\n",
    "    3 / 0\n",
    "except ZeroDivisionError:\n",
    "    print(\"Error: You can't divide by zero\")\n",
    "except ValueError:\n",
    "    print(\"Error: Non-numeric value\")\n",
    "except BaseException:\n",
    "    print(\"Error: there is a problem\")"
   ]
  },
  {
   "cell_type": "code",
   "execution_count": 10,
   "metadata": {},
   "outputs": [
    {
     "name": "stdout",
     "output_type": "stream",
     "text": [
      "Error: Non-numeric value\n"
     ]
    }
   ],
   "source": [
    "try:\n",
    "    3 / int(\"ssss\")\n",
    "except ZeroDivisionError:\n",
    "    print(\"Error: You can't divide by zero\")\n",
    "except ValueError:\n",
    "    print(\"Error: Non-numeric value\")\n",
    "except BaseException:\n",
    "    print(\"Error: there is a problem\")"
   ]
  },
  {
   "cell_type": "markdown",
   "metadata": {},
   "source": [
    "### Finally and else\n",
    "`try`/`except` can be completed with two other keywords: `finally` and `else`.  \n",
    "`else` is the block executed if no exception is thrown."
   ]
  },
  {
   "cell_type": "code",
   "execution_count": 11,
   "metadata": {},
   "outputs": [
    {
     "name": "stdout",
     "output_type": "stream",
     "text": [
      "Everything is ok\n"
     ]
    }
   ],
   "source": [
    "try:\n",
    "    3 / 3\n",
    "except ZeroDivisionError:\n",
    "    print(\"Error: You can't divide by zero\")\n",
    "except ValueError:\n",
    "    print(\"Error: Non-numeric value\")\n",
    "except BaseException:\n",
    "    print(\"Error: there is a problem\")\n",
    "else:\n",
    "    print(\"Everything is ok\")"
   ]
  },
  {
   "cell_type": "markdown",
   "metadata": {},
   "source": [
    "`finally` is a block that is executed after all other blocks have been executed, regardless of whether there was an exception or not, and **even if the program crashes**. \n"
   ]
  },
  {
   "cell_type": "code",
   "execution_count": 12,
   "metadata": {},
   "outputs": [
    {
     "name": "stdout",
     "output_type": "stream",
     "text": [
      "Error: You can't divide by zero\n",
      "I'll do executing in the end no matter what..\n"
     ]
    }
   ],
   "source": [
    "try:\n",
    "    3 / 0\n",
    "except ZeroDivisionError:\n",
    "    print(\"Error: You can't divide by zero\")\n",
    "except ValueError:\n",
    "    print(\"Error: Non-numeric value\")\n",
    "except BaseException:\n",
    "    print(\"Error: there is a problem\")\n",
    "finally:\n",
    "    print(\"I'll do executing in the end no matter what..\")"
   ]
  },
  {
   "cell_type": "markdown",
   "metadata": {},
   "source": [
    "### raise"
   ]
  },
  {
   "cell_type": "markdown",
   "metadata": {},
   "source": [
    "It is possible to trigger exceptions ourselves."
   ]
  },
  {
   "cell_type": "markdown",
   "metadata": {},
   "source": [
    "`raise` is a Python statement that can trigger any `Error`. This means that an error is explicitly triggered. "
   ]
  },
  {
   "cell_type": "code",
   "execution_count": null,
   "metadata": {},
   "outputs": [],
   "source": [
    "def division(num, div):\n",
    "    if div == 0:\n",
    "        raise ZeroDivisionError()\n",
    "    else:\n",
    "        return num / div\n",
    "\n",
    "\n",
    "division(5, 0)"
   ]
  },
  {
   "cell_type": "markdown",
   "metadata": {},
   "source": [
    "We can agree that the `division()` function is completely useless! This was just to showcase the purpose of `raise`. \n",
    "\n",
    "### Creating an exception\n",
    "As you can imagine, we can create our own exceptions. \n",
    "Just create a class that will inherit from the `Exception` class."
   ]
  },
  {
   "cell_type": "code",
   "execution_count": 13,
   "metadata": {},
   "outputs": [],
   "source": [
    "class MyError(Exception):\n",
    "    pass"
   ]
  },
  {
   "cell_type": "code",
   "execution_count": 14,
   "metadata": {},
   "outputs": [
    {
     "ename": "MyError",
     "evalue": "Hello",
     "output_type": "error",
     "traceback": [
      "\u001b[1;31m---------------------------------------------------------------------------\u001b[0m",
      "\u001b[1;31mMyError\u001b[0m                                   Traceback (most recent call last)",
      "Cell \u001b[1;32mIn[14], line 1\u001b[0m\n\u001b[1;32m----> 1\u001b[0m \u001b[38;5;28;01mraise\u001b[39;00m MyError(\u001b[38;5;124m\"\u001b[39m\u001b[38;5;124mHello\u001b[39m\u001b[38;5;124m\"\u001b[39m)\n",
      "\u001b[1;31mMyError\u001b[0m: Hello"
     ]
    }
   ],
   "source": [
    "raise MyError(\"Hello\")"
   ]
  },
  {
   "cell_type": "code",
   "execution_count": null,
   "metadata": {},
   "outputs": [],
   "source": []
  }
 ],
 "metadata": {
  "kernelspec": {
   "display_name": "Python 3 (ipykernel)",
   "language": "python",
   "name": "python3"
  },
  "language_info": {
   "codemirror_mode": {
    "name": "ipython",
    "version": 3
   },
   "file_extension": ".py",
   "mimetype": "text/x-python",
   "name": "python",
   "nbconvert_exporter": "python",
   "pygments_lexer": "ipython3",
   "version": "3.10.9"
  }
 },
 "nbformat": 4,
 "nbformat_minor": 2
}
