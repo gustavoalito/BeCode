{
 "cells": [
  {
   "cell_type": "markdown",
   "metadata": {},
   "source": [
    "# The functions"
   ]
  },
  {
   "cell_type": "markdown",
   "metadata": {},
   "source": [
    "A function is a block of organized, reusable code that is used to perform a single, related action. Functions provide better modularity for your application and a high degree of code reusing.\n",
    "\n",
    "As you already know, Python gives you many built-in functions like `print()`, etc. but you can also create your own functions. These functions are called user-defined functions."
   ]
  },
  {
   "cell_type": "markdown",
   "metadata": {},
   "source": [
    "You can define functions to provide the required functionality. Here are simple rules to define a function in Python.\n",
    "\n",
    "- Function blocks begin with the keyword `def` followed by the function name and parentheses `()`.\n",
    "\n",
    "- Any input parameters or arguments should be placed within these parentheses. You can also define parameters inside these parentheses, if you want to have default values.\n",
    "\n",
    "- The first statement of a function can be an optional statement - the documentation string of the function or docstring.\n",
    "\n",
    "- The code block within every function starts with a colon `:` and is indented.\n",
    "\n",
    "- The `return` statements exits a function, optionally passing back a result to the caller. A return statement with no arguments is the same as `return None`.\n"
   ]
  },
  {
   "cell_type": "markdown",
   "metadata": {},
   "source": [
    "We will create a function that says hello and welcomes you."
   ]
  },
  {
   "cell_type": "code",
   "execution_count": 1,
   "metadata": {},
   "outputs": [
    {
     "name": "stdout",
     "output_type": "stream",
     "text": [
      "Hello and welcome!\n"
     ]
    }
   ],
   "source": [
    "def hello():\n",
    "    print(\"Hello and welcome!\")\n",
    "    \n",
    "hello() # Calls the hello() function and runs it."
   ]
  },
  {
   "cell_type": "markdown",
   "metadata": {},
   "source": [
    "## The parameters"
   ]
  },
  {
   "cell_type": "markdown",
   "metadata": {},
   "source": [
    "A parameter is a variable in a function definition. When a function is called, the arguments are the data you pass into the function's parameters.\n",
    "\n",
    "Parameter is the variable in the declaration of a function. Argument is the actual value of this variable that gets passed to the function.\n",
    "\n",
    "First example:"
   ]
  },
  {
   "cell_type": "code",
   "execution_count": 4,
   "metadata": {},
   "outputs": [
    {
     "name": "stdout",
     "output_type": "stream",
     "text": [
      "Hello Alan and welcome\n"
     ]
    }
   ],
   "source": [
    "def hello(name):  # <- Parameter\n",
    "    print(f\"Hello {name} and welcome\") # See below for formatted string literals (the \"f\" right before the quotation marks in the print() class).\n",
    "\n",
    "\n",
    "hello(\"Alan\")  # <- Argument"
   ]
  },
  {
   "cell_type": "markdown",
   "metadata": {},
   "source": [
    "To use formatted string literals, begin a string with f or F before the opening quotation mark or triple quotation mark in a print() statement. Inside this string, you can write a Python expression between {  } characters that can refer to variables or literal values. f-strings use the same rules as normal strings, raw strings, and triple quoted strings. The parts of the f-string outside of the curly braces are literal strings. f-strings support extensive modifiers that control the final appearance of the output string. Expressions in f-strings can be modified by a format specification. \n",
    "Ref.: chrome-extension://efaidnbmnnnibpcajpcglclefindmkaj/http://cissandbox.bentley.edu/sandbox/wp-content/uploads/2022-02-10-Documentation-on-f-strings-Updated.pdf"
   ]
  },
  {
   "cell_type": "markdown",
   "metadata": {},
   "source": [
    "Second example:   \n",
    "Let's add a parameter to the `increaseMe()` function that will increment the variable by 2."
   ]
  },
  {
   "cell_type": "code",
   "execution_count": 5,
   "metadata": {},
   "outputs": [
    {
     "data": {
      "text/plain": [
       "3"
      ]
     },
     "execution_count": 5,
     "metadata": {},
     "output_type": "execute_result"
    }
   ],
   "source": [
    "def increaseMe(a):\n",
    "    return a + 2\n",
    "\n",
    "\n",
    "increaseMe(1)"
   ]
  },
  {
   "cell_type": "markdown",
   "metadata": {},
   "source": [
    "## Use a dictionary for the parameters"
   ]
  },
  {
   "cell_type": "markdown",
   "metadata": {},
   "source": [
    "It is possible to pass a dictionary as an argument that contains the parameters."
   ]
  },
  {
   "cell_type": "code",
   "execution_count": 10,
   "metadata": {},
   "outputs": [
    {
     "name": "stdout",
     "output_type": "stream",
     "text": [
      "Hello Alan Turing and welcome!\n"
     ]
    }
   ],
   "source": [
    "name = {}\n",
    "name[\"first_name\"] = \"Alan\"\n",
    "name[\"last_name\"] = \"Turing\"\n",
    "\n",
    "\n",
    "def hello(first_name, last_name):\n",
    "    print(f\"Hello {first_name} {last_name} and welcome!\")\n",
    "\n",
    "\n",
    "hello(**name) # The same as \"hello(first_name=\"Alan\", last_name=\"Turing\")\""
   ]
  },
  {
   "cell_type": "markdown",
   "metadata": {},
   "source": [
    "In Python, the double asterisks (**) operator is used for dictionary unpacking. It allows you to pass the contents of a dictionary as keyword arguments to a function. Each key in the dictionary corresponds to a parameter name, and its associated value is passed as the value for that parameter.\n",
    "\n",
    "In the given code, the dictionary name has two key-value pairs: \"first_name\": \"Alan\" and \"last_name\": \"Turing\". By using **name when calling the hello function, the dictionary is unpacked, and its key-value pairs are passed as keyword arguments. So effectively, the function call hello(**name) is equivalent to hello(first_name=\"Alan\", last_name=\"Turing\").\n",
    "\n",
    "If you remove the double asterisks and simply call the function as hello(name), it will treat the entire dictionary name as a single argument. Since the hello function expects two separate arguments (first_name and last_name), it will result in a TypeError because the function receives a single argument instead of the expected two."
   ]
  },
  {
   "cell_type": "markdown",
   "metadata": {},
   "source": [
    "## A parameter is required"
   ]
  },
  {
   "cell_type": "markdown",
   "metadata": {},
   "source": [
    "If we proceed as above, passing an argument becomes mandatory. But we have the possibility to assign a default value in case the user does not pass an argument. "
   ]
  },
  {
   "cell_type": "code",
   "execution_count": 11,
   "metadata": {},
   "outputs": [
    {
     "name": "stdout",
     "output_type": "stream",
     "text": [
      "Hello Anonymous and welcome!\n"
     ]
    }
   ],
   "source": [
    "def hello(name=\"Anonymous\"):  # <- Parameter\n",
    "    print(f\"Hello {name} and welcome!\")\n",
    "\n",
    "\n",
    "hello()  # <- No argument"
   ]
  },
  {
   "cell_type": "markdown",
   "metadata": {},
   "source": [
    "## The splat operator"
   ]
  },
  {
   "cell_type": "markdown",
   "metadata": {},
   "source": [
    "If we do not know the number of parameters, we have the possibility to indicate that the function receives an infinite number of parameters "
   ]
  },
  {
   "cell_type": "code",
   "execution_count": 12,
   "metadata": {},
   "outputs": [
    {
     "data": {
      "text/plain": [
       "24"
      ]
     },
     "execution_count": 12,
     "metadata": {},
     "output_type": "execute_result"
    }
   ],
   "source": [
    "def multiply(*elements):  # Add \"*\" to indicate that the parameters are infinite\n",
    "    result = 1\n",
    "    for element in elements:\n",
    "        result = result * element\n",
    "    return result\n",
    "\n",
    "\n",
    "multiply(1, 2, 3, 4)"
   ]
  },
  {
   "cell_type": "markdown",
   "metadata": {},
   "source": [
    "A variable result is initialized to 1. This variable will store the multiplication result.\n",
    "A for loop is used to iterate over each element in the elements parameter. The elements parameter is a tuple that contains all the arguments passed to the function.\n",
    "For each iteration of the loop, the result is multiplied by the current element value using the * operator. The updated value is then assigned back to the result variable.\n",
    "Once all the elements have been processed, the final result is stored in the result variable.\n",
    "The function then returns the final result.\n",
    "Finally, outside the function, the multiply function is called with the arguments 1, 2, 3, 4.\n",
    "The function executes, and the values 1, 2, 3, 4 are passed to the elements parameter as a tuple. Inside the function, the for loop iterates over each element and multiplies them together, resulting in 1 * 2 * 3 * 4 = 24.\n",
    "The function multiply returns the value 24, which is the final result."
   ]
  },
  {
   "cell_type": "markdown",
   "metadata": {},
   "source": [
    "## A list as a parameter"
   ]
  },
  {
   "cell_type": "markdown",
   "metadata": {},
   "source": [
    "Functions which take lists as arguments and change them during execution are called **modifiers** and the changes they make are called **side effects**. Passing a list as an argument actually passes a reference to the list, not a copy of the list. Since lists are mutable, changes made to the elements referenced by the parameter change the same list that the argument is referencing. For example, the function below takes a list as an argument and multiplies each element in the list by 2."
   ]
  },
  {
   "cell_type": "code",
   "execution_count": 13,
   "metadata": {},
   "outputs": [
    {
     "name": "stdout",
     "output_type": "stream",
     "text": [
      "[2, 5, 9]\n",
      "[4, 10, 18]\n"
     ]
    }
   ],
   "source": [
    "def double_stuff(a_list):\n",
    "    \"\"\"Overwrite each element in a_list with double its value.\"\"\"\n",
    "    for position in range(len(a_list)):\n",
    "        a_list[position] = 2 * a_list[position]\n",
    "\n",
    "\n",
    "things = [2, 5, 9]\n",
    "print(things)\n",
    "double_stuff(things)\n",
    "print(things)"
   ]
  },
  {
   "cell_type": "markdown",
   "metadata": {},
   "source": [
    "## Scope of variables (global and local variables)"
   ]
  },
  {
   "cell_type": "markdown",
   "metadata": {},
   "source": [
    "The scope of a variable refers to the places that you can see or access a variable.\n",
    "\n",
    "If you define a variable at the top level of your script, module or notebook, this is a global variable."
   ]
  },
  {
   "cell_type": "code",
   "execution_count": null,
   "metadata": {},
   "outputs": [],
   "source": [
    "my_var = \"This is a global variable\""
   ]
  },
  {
   "cell_type": "markdown",
   "metadata": {},
   "source": [
    "The variable is global because any Python function or class defined in this module or notebook, is able to access this variable. Example:"
   ]
  },
  {
   "cell_type": "code",
   "execution_count": 14,
   "metadata": {},
   "outputs": [
    {
     "name": "stdout",
     "output_type": "stream",
     "text": [
      "This is a global variable\n"
     ]
    }
   ],
   "source": [
    "my_var = \"This is a global variable\"\n",
    "\n",
    "\n",
    "def print_my_var():\n",
    "    print(my_var)\n",
    "\n",
    "\n",
    "print_my_var()"
   ]
  },
  {
   "cell_type": "markdown",
   "metadata": {},
   "source": [
    "On the other hand, if the variable is declared and assigned in function or class, this variable is a local variable. "
   ]
  },
  {
   "cell_type": "code",
   "execution_count": 18,
   "metadata": {},
   "outputs": [
    {
     "ename": "NameError",
     "evalue": "name 'var_local' is not defined",
     "output_type": "error",
     "traceback": [
      "\u001b[1;31m---------------------------------------------------------------------------\u001b[0m",
      "\u001b[1;31mNameError\u001b[0m                                 Traceback (most recent call last)",
      "Cell \u001b[1;32mIn[18], line 5\u001b[0m\n\u001b[0;32m      2\u001b[0m     var_local \u001b[38;5;241m=\u001b[39m \u001b[38;5;124m\"\u001b[39m\u001b[38;5;124mThis is a local variable\u001b[39m\u001b[38;5;124m\"\u001b[39m\n\u001b[0;32m      4\u001b[0m declare()\n\u001b[1;32m----> 5\u001b[0m \u001b[38;5;28mprint\u001b[39m(\u001b[43mvar_local\u001b[49m)\n",
      "\u001b[1;31mNameError\u001b[0m: name 'var_local' is not defined"
     ]
    }
   ],
   "source": [
    "def declare():\n",
    "    var_local = \"This is a local variable\"\n",
    "  \n",
    "declare()\n",
    "print(var_local)"
   ]
  },
  {
   "cell_type": "markdown",
   "metadata": {},
   "source": [
    "The above error is expected, since the variable is called outise its block. It is a local variable and shoul dbe called within its block (its scope)."
   ]
  },
  {
   "cell_type": "markdown",
   "metadata": {},
   "source": [
    "## Procedure and functions"
   ]
  },
  {
   "cell_type": "markdown",
   "metadata": {},
   "source": [
    "For your computer culture, be aware that a function is not required to return a value. This is rather called a procedure."
   ]
  },
  {
   "cell_type": "markdown",
   "metadata": {},
   "source": [
    "## [Finished? Okay, come practice here.](./drill_functions.ipynb)"
   ]
  }
 ],
 "metadata": {
  "kernelspec": {
   "display_name": "Python 3 (ipykernel)",
   "language": "python",
   "name": "python3"
  },
  "language_info": {
   "codemirror_mode": {
    "name": "ipython",
    "version": 3
   },
   "file_extension": ".py",
   "mimetype": "text/x-python",
   "name": "python",
   "nbconvert_exporter": "python",
   "pygments_lexer": "ipython3",
   "version": "3.10.9"
  }
 },
 "nbformat": 4,
 "nbformat_minor": 4
}
