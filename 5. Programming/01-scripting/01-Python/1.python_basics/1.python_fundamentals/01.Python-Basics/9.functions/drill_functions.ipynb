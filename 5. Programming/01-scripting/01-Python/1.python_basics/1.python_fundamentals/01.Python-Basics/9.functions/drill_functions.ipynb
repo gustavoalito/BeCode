{
 "cells": [
  {
   "cell_type": "markdown",
   "metadata": {},
   "source": [
    "# Drill functions"
   ]
  },
  {
   "cell_type": "markdown",
   "metadata": {},
   "source": [
    "### 1. Say Hello\n",
    "Write a function called `hello` that returns a string of characters. This function will take as argument a variable `name`. This function will return a string `\"Hello name\"`."
   ]
  },
  {
   "cell_type": "markdown",
   "metadata": {},
   "source": [
    "Example :\n",
    "<pre><code>hello('Jean') => 'Hello Jean'</code></pre>\n",
    "<pre><code>hello() => 'Hello Anonymous' </code></pre>"
   ]
  },
  {
   "cell_type": "code",
   "execution_count": 76,
   "metadata": {},
   "outputs": [
    {
     "data": {
      "text/plain": [
       "'Hello Anonymous'"
      ]
     },
     "execution_count": 76,
     "metadata": {},
     "output_type": "execute_result"
    }
   ],
   "source": [
    "def hello(name = \"Anonymous\"):\n",
    "    return f\"Hello {name}\"\n",
    "\n",
    "hello()"
   ]
  },
  {
   "cell_type": "markdown",
   "metadata": {},
   "source": [
    "The hello function accepts an optional argument name, which defaults to \"Anonymous\" if not provided. It uses an f-string to concatenate the string \"Hello\" with the value of name and returns the resulting string."
   ]
  },
  {
   "cell_type": "markdown",
   "metadata": {},
   "source": [
    "### 2. Count students\n",
    "Create a function `sum_of_students` that calculates and counts the number of students in a list and returns the total. The function will have to return an integer."
   ]
  },
  {
   "cell_type": "markdown",
   "metadata": {},
   "source": [
    "Example : \n",
    "```\n",
    "sum_of_students([[\"Jean\", \"Alice\", \"Edwige\", \"Peter\", \"James\"],\n",
    "               [\"Redouane\", \"Justine\", \"Adrien\", \"Nicolas\", \"Pierre\"]]) => 10\n",
    "```"
   ]
  },
  {
   "cell_type": "code",
   "execution_count": 130,
   "metadata": {},
   "outputs": [
    {
     "data": {
      "text/plain": [
       "10"
      ]
     },
     "execution_count": 130,
     "metadata": {},
     "output_type": "execute_result"
    }
   ],
   "source": [
    "all_students = [[\"Jean\", \"Alice\", \"Edwige\", \"Peter\", \"James\"], [\"Redouane\", \"Justine\", \"Adrien\", \"Nicolas\", \"Pierre\"]]\n",
    "\n",
    "def sum_of_students(student_list):\n",
    "    \n",
    "    counter = 0\n",
    "    for student_row in all_students:\n",
    "        for student in student_row:\n",
    "            counter += 1\n",
    "    return counter\n",
    "\n",
    "sum_of_students(all_students)"
   ]
  },
  {
   "cell_type": "markdown",
   "metadata": {},
   "source": [
    "### 3.  Is divisible ?\n",
    "Create a function `is_divisible(n, x, y)` that checks if a number `n` is divisible by two numbers `x` AND `y`. All inputs are positive, non-zero digits."
   ]
  },
  {
   "cell_type": "markdown",
   "metadata": {},
   "source": [
    "Example:\n",
    "```\n",
    "is_divisible(3, 1, 3)--> True because 3 is divisible by 1 and 3\n",
    "is_divisible(12, 2, 6)--> True because 12 is divisible by 2 and 6\n",
    "is_divisible(100, 5, 3)--> False because 100 is not divisible by 3\n",
    "is_divisible(12, 7, 5)--> False because 12 is neither divisible by 7 nor 5\n",
    "```"
   ]
  },
  {
   "cell_type": "code",
   "execution_count": 81,
   "metadata": {},
   "outputs": [
    {
     "data": {
      "text/plain": [
       "False"
      ]
     },
     "execution_count": 81,
     "metadata": {},
     "output_type": "execute_result"
    }
   ],
   "source": [
    "def is_divisible(n, x, y):\n",
    "    n_x = n % x\n",
    "    n_y = n % y\n",
    "    \n",
    "    if n_x == 0 and n_y == 0:\n",
    "        return True\n",
    "    else:\n",
    "        return False\n",
    "    \n",
    "is_divisible(12, 7, 5)"
   ]
  },
  {
   "cell_type": "markdown",
   "metadata": {},
   "source": [
    "### 4. Abbreviate a two-word name\n",
    "Write a function to convert a name into initials. This function strictly takes two words with one space in between them."
   ]
  },
  {
   "cell_type": "markdown",
   "metadata": {},
   "source": [
    "Example : \n",
    "```\n",
    "Sam Harris => S.H\n",
    "\n",
    "Patrick Feeney => P.F\n",
    "```"
   ]
  },
  {
   "cell_type": "code",
   "execution_count": 22,
   "metadata": {},
   "outputs": [
    {
     "name": "stdin",
     "output_type": "stream",
     "text": [
      "Enter a name with 2 words, spearated by a space:  Gu H A Alito\n"
     ]
    },
    {
     "data": {
      "text/plain": [
       "'G.H.A.A'"
      ]
     },
     "execution_count": 22,
     "metadata": {},
     "output_type": "execute_result"
    }
   ],
   "source": [
    "def abbreviate_name():\n",
    "    name = input(\"Enter a name with 2 words, spearated by a space: \")\n",
    "    words = name.split() # Splitting the name into 2 words. The split() function by default takes the space as the delimiter.\n",
    "    letters = [word[0].capitalize() for word in words] # Iterating through the words and taking the 1st letter of each. Then, capitalizing them.\n",
    "    \n",
    "    return \".\".join(letters) # The .join() function then takes the \".\" as the delimiter to join the value of \"letters\".\n",
    "\n",
    "abbreviate_name() # Initiates the function taking the user's input as the input. "
   ]
  },
  {
   "cell_type": "markdown",
   "metadata": {},
   "source": [
    "### 5. Sum of positive \n",
    "You get an array of numbers, return the sum of all of the positives ones."
   ]
  },
  {
   "cell_type": "markdown",
   "metadata": {},
   "source": [
    "Example :  \n",
    "` [1,-4,7,12] => 1 + 7 + 12 = 20`"
   ]
  },
  {
   "cell_type": "code",
   "execution_count": 10,
   "metadata": {},
   "outputs": [
    {
     "data": {
      "text/plain": [
       "20"
      ]
     },
     "execution_count": 10,
     "metadata": {},
     "output_type": "execute_result"
    }
   ],
   "source": [
    "numbers = [1,-4,7,12]\n",
    "\n",
    "def positive_sum(numbers):\n",
    "    positive_numbers = 0\n",
    "    for number in numbers: # Iterating through the list of numbers stored within the list \"numbers\".\n",
    "        if number > 0:\n",
    "            positive_numbers += number # If the number is positive, it will be added to the variable positive_numbers.\n",
    "    return positive_numbers \n",
    "    \n",
    "positive_sum(numbers)"
   ]
  },
  {
   "cell_type": "markdown",
   "metadata": {},
   "source": [
    "### 6. Sum mixed array \n",
    "\n",
    "Given an array of integers as strings and numbers, return the sum of the array values as if all were numbers.\n",
    "\n",
    "Return your answer as a number.\n"
   ]
  },
  {
   "cell_type": "markdown",
   "metadata": {},
   "source": [
    "Example : \n",
    "```\n",
    "mixed_sum(['5', '0', 9, 3, 2, 1, '9', 6, 7]) => 42\n",
    "```"
   ]
  },
  {
   "cell_type": "code",
   "execution_count": 108,
   "metadata": {},
   "outputs": [
    {
     "data": {
      "text/plain": [
       "22"
      ]
     },
     "execution_count": 108,
     "metadata": {},
     "output_type": "execute_result"
    }
   ],
   "source": [
    "mixed_sum = [9, 3, \"7\", \"3\"]\n",
    "\n",
    "def sum_positive_numbers(lst):\n",
    "\n",
    "    total = 0\n",
    "    for element in lst:\n",
    "        if isinstance(element, int):\n",
    "            total += element\n",
    "        elif isinstance(element, str):\n",
    "            total += int(element)\n",
    "    return total\n",
    "    \n",
    "sum_positive_numbers(mixed_sum)"
   ]
  },
  {
   "cell_type": "markdown",
   "metadata": {},
   "source": [
    "The isinstance() function is a built-in function in Python that allows you to check the type of an object. It takes two arguments: the object you want to check and the type you want to check against.\n",
    "\n",
    "The syntax of the isinstance() function is as follows: isinstance(object, type)\n",
    "\n",
    "object: The object you want to check its type.\n",
    "type: The type you want to compare the object against.\n",
    "\n",
    "The isinstance() function returns True if the object is an instance of the specified type or a subclass of the specified type. Otherwise, it returns False."
   ]
  },
  {
   "cell_type": "markdown",
   "metadata": {},
   "source": [
    "### 7. Return the day\n",
    "Complete the function which returns the weekday according to the input number:\n",
    "\n",
    "    1 returns \"Sunday\"\n",
    "    2 returns \"Monday\"\n",
    "    3 returns \"Tuesday\"\n",
    "    4 returns \"Wednesday\"\n",
    "    5 returns \"Thursday\"\n",
    "    6 returns \"Friday\"\n",
    "    7 returns \"Saturday\"\n",
    "    Otherwise returns \"Wrong, please enter a number between 1 and 7\"\n",
    "\n"
   ]
  },
  {
   "cell_type": "code",
   "execution_count": 61,
   "metadata": {},
   "outputs": [
    {
     "name": "stdin",
     "output_type": "stream",
     "text": [
      "The week starts on Sunday, day 1. Please type in a number to get its respective day of the week:  10\n"
     ]
    },
    {
     "name": "stdout",
     "output_type": "stream",
     "text": [
      "Wrong, please enter a number between 1 and 7\n"
     ]
    }
   ],
   "source": [
    "days_of_the_week = {\n",
    "1 : \"Sunday\",\n",
    "2 : \"Monday\", \n",
    "3 : \"Tuesday\", \n",
    "4 : \"Wednesday\", \n",
    "5 : \"Thursday\", \n",
    "6 : \"Friday\", \n",
    "7 : \"Saturday\", \n",
    "}\n",
    "\n",
    "def what_day(number):\n",
    "    \n",
    "    if number > 7 or number < 1:\n",
    "        return \"Wrong, please enter a number between 1 and 7\"\n",
    "        \n",
    "    else:\n",
    "        return days_of_the_week[number]\n",
    "        \n",
    "\n",
    "number = int(input(\"The week starts on Sunday, day 1. Please type in a number to get its respective day of the week: \"))\n",
    "result = what_day(number)\n",
    "print(result)"
   ]
  },
  {
   "cell_type": "markdown",
   "metadata": {},
   "source": [
    "### 8. Summation\n",
    "Write a program that finds the summation of every number from 1 to `number`. The number will always be a positive integer greater than 0.\n"
   ]
  },
  {
   "cell_type": "markdown",
   "metadata": {},
   "source": [
    "Example : \n",
    "```\n",
    "    summation(2) -> 3\n",
    "    1 + 2\n",
    "\n",
    "    summation(8) -> 36\n",
    "    1 + 2 + 3 + 4 + 5 + 6 + 7 + 8\n",
    "```"
   ]
  },
  {
   "cell_type": "code",
   "execution_count": 25,
   "metadata": {},
   "outputs": [
    {
     "data": {
      "text/plain": [
       "36"
      ]
     },
     "execution_count": 25,
     "metadata": {},
     "output_type": "execute_result"
    }
   ],
   "source": [
    "def summation(x):\n",
    "    result = 0\n",
    "    for number in range (x + 1): # Adding one number to make sure we are including the number x. Otherwise, the range will consider one number below.\n",
    "        result = result + number # This loop will iterate from zero until the given number incrementing one number at a time and adding it up to the result.\n",
    "    return result\n",
    "\n",
    "summation(8)"
   ]
  },
  {
   "cell_type": "markdown",
   "metadata": {},
   "source": [
    "Ref.: https://www.youtube.com/watch?v=myp-q3_0SJ8&t=204s"
   ]
  },
  {
   "cell_type": "markdown",
   "metadata": {},
   "source": [
    "### 9. If you can't sleep, just count sheep!!"
   ]
  },
  {
   "cell_type": "markdown",
   "metadata": {},
   "source": [
    "Given a non-negative integer, 3 for example, return a string saying: \"1 sheep...2 sheep...3 sheep...\". Input will always be valid, i.e. no negative integers."
   ]
  },
  {
   "cell_type": "code",
   "execution_count": 64,
   "metadata": {},
   "outputs": [
    {
     "name": "stdout",
     "output_type": "stream",
     "text": [
      "1 sheep...2 sheep...3 sheep...4 sheep...5 sheep...\n"
     ]
    }
   ],
   "source": [
    "def count_sheep(x):\n",
    "    result = \"\"\n",
    "    for number in range (1, x + 1): # Starting the range count from 1 and then going all the way to the number + 1. Adding + 1 to the number to make sure we are including the number x. Otherwise, the range will consider one number below.\n",
    "        result += str(number) + \" sheep...\"\n",
    "    return result\n",
    "   \n",
    "print(count_sheep(5))"
   ]
  },
  {
   "cell_type": "markdown",
   "metadata": {},
   "source": [
    "You need to start the range from 1 instead of 0 because the task requires counting the sheep from 1 to the given number, inclusive.\n",
    "Instead of printing each line separately, you can concatenate the result string using the += operator. This way, the final string will be returned by the function."
   ]
  },
  {
   "cell_type": "markdown",
   "metadata": {},
   "source": [
    "### 10. Student's final grade \n",
    "Create a function `final_grade`, which calculates the final grade of a student depending on two parameters: a grade for the `exam_grade` and a number of completed projects.\n",
    "\n",
    "This function should take two arguments: `exam_grade`, grade of the exam (from 0 to 100), and `completed_projects`, number of completed projects (0 and above).\n",
    "\n",
    "This function should return a number, i.e. the final grade. There are four types of final grades:\n",
    "\n",
    "    100, if a grade for the exam is more than 90 or if the number of completed projects more than 10.\n",
    "    90, if a grade for the exam is more than 75 and if the number of completed projects is minimum 5.\n",
    "    75, if a grade for the exam is more than 50 and if the number of completed projects is minimum 2.\n",
    "    0, in other cases\n"
   ]
  },
  {
   "cell_type": "code",
   "execution_count": 31,
   "metadata": {},
   "outputs": [
    {
     "data": {
      "text/plain": [
       "100"
      ]
     },
     "execution_count": 31,
     "metadata": {},
     "output_type": "execute_result"
    }
   ],
   "source": [
    "def final_grade(exam_grade, completed_projects):\n",
    "    if exam_grade > 90 or completed_projects > 10:\n",
    "        return 100\n",
    "    elif exam_grade > 75 and completed_projects >= 5:\n",
    "        return 90\n",
    "    elif exam_grade > 50 and completed_projects >= 2:\n",
    "        return 75\n",
    "    else:\n",
    "        return 0\n",
    "    \n",
    "final_grade(98, 2)\n"
   ]
  },
  {
   "cell_type": "markdown",
   "metadata": {},
   "source": [
    "## Testing"
   ]
  },
  {
   "cell_type": "markdown",
   "metadata": {},
   "source": [
    "Do not touch the code, just run it"
   ]
  },
  {
   "cell_type": "code",
   "execution_count": 131,
   "metadata": {},
   "outputs": [
    {
     "name": "stderr",
     "output_type": "stream",
     "text": [
      "test_abbreviate_name (__main__.TestNotebook) ... "
     ]
    },
    {
     "name": "stdin",
     "output_type": "stream",
     "text": [
      "Enter a name with 2 words, spearated by a space:  \n",
      "Enter a name with 2 words, spearated by a space:  \n",
      "Enter a name with 2 words, spearated by a space:  \n",
      "Enter a name with 2 words, spearated by a space:  \n",
      "Enter a name with 2 words, spearated by a space:  \n"
     ]
    },
    {
     "name": "stderr",
     "output_type": "stream",
     "text": [
      "ok\n",
      "test_count_sheep (__main__.TestNotebook) ... ok\n",
      "test_final_grade (__main__.TestNotebook) ... ok\n",
      "test_hello (__main__.TestNotebook) ... ok\n",
      "test_is_divisible (__main__.TestNotebook) ... ok\n",
      "test_positive_sum (__main__.TestNotebook) ... ok\n",
      "test_return_day (__main__.TestNotebook) ... FAIL\n",
      "test_sum_mixed_array (__main__.TestNotebook) ... ERROR\n",
      "test_sum_of_students (__main__.TestNotebook) ... ok\n",
      "test_summation (__main__.TestNotebook) ... ok\n",
      "\n",
      "======================================================================\n",
      "ERROR: test_sum_mixed_array (__main__.TestNotebook)\n",
      "----------------------------------------------------------------------\n",
      "Traceback (most recent call last):\n",
      "  File \"C:\\Users\\Gustavo Alito\\AppData\\Local\\Temp\\ipykernel_8344\\2258805842.py\", line 41, in test_sum_mixed_array\n",
      "    self.assertEqual(mixed_sum([9, 3, \"7\", \"3\"]), 22)\n",
      "TypeError: 'list' object is not callable\n",
      "\n",
      "======================================================================\n",
      "FAIL: test_return_day (__main__.TestNotebook)\n",
      "----------------------------------------------------------------------\n",
      "Traceback (most recent call last):\n",
      "  File \"C:\\Users\\Gustavo Alito\\AppData\\Local\\Temp\\ipykernel_8344\\2258805842.py\", line 51, in test_return_day\n",
      "    self.assertEqual(what_day(8), \"Wrong, please enter a number between 1 and 7\")\n",
      "AssertionError: None != 'Wrong, please enter a number between 1 and 7'\n",
      "\n",
      "----------------------------------------------------------------------\n",
      "Ran 10 tests in 1.859s\n",
      "\n",
      "FAILED (failures=1, errors=1)\n"
     ]
    },
    {
     "name": "stdout",
     "output_type": "stream",
     "text": [
      "Wrong, please enter a number between 1 and 7\n"
     ]
    },
    {
     "data": {
      "text/plain": [
       "<unittest.main.TestProgram at 0x1de0cadb490>"
      ]
     },
     "execution_count": 131,
     "metadata": {},
     "output_type": "execute_result"
    }
   ],
   "source": [
    "import unittest\n",
    "\n",
    "\n",
    "class TestNotebook(unittest.TestCase):\n",
    "    def test_hello(self):\n",
    "        self.assertEqual(hello(), \"Hello Anonymous\")\n",
    "        self.assertEqual(hello(\"Jean\"), \"Hello Jean\")\n",
    "\n",
    "    def test_sum_of_students(self):\n",
    "        self.assertEqual(\n",
    "            sum_of_students(\n",
    "                [\n",
    "                    [\"Jean\", \"Alice\", \"Edwige\", \"Peter\", \"James\"],\n",
    "                    [\"Redouane\", \"Justine\", \"Adrien\", \"Nicolas\", \"Pierre\"],\n",
    "                ]\n",
    "            ),\n",
    "            10,\n",
    "        )\n",
    "\n",
    "    def test_is_divisible(self):\n",
    "        self.assertEqual(is_divisible(3, 3, 4), False)\n",
    "        self.assertEqual(is_divisible(12, 3, 4), True)\n",
    "        self.assertEqual(is_divisible(8, 3, 4), False)\n",
    "        self.assertEqual(is_divisible(48, 3, 4), True)\n",
    "\n",
    "    def test_abbreviate_name(self):\n",
    "        self.assertEqual(abbreviate_name(\"Sam Harris\"), \"S.H\")\n",
    "        self.assertEqual(abbreviate_name(\"Patrick Feenan\"), \"P.F\")\n",
    "        self.assertEqual(abbreviate_name(\"Evan Cole\"), \"E.C\")\n",
    "        self.assertEqual(abbreviate_name(\"P Favuzzi\"), \"P.F\")\n",
    "        self.assertEqual(abbreviate_name(\"David Mendieta\"), \"D.M\")\n",
    "\n",
    "    def test_positive_sum(self):\n",
    "        self.assertEqual(positive_sum([1, 2, 3, 4, 5]), 15)\n",
    "        self.assertEqual(positive_sum([1, -2, 3, 4, 5]), 13)\n",
    "        self.assertEqual(positive_sum([-1, 2, 3, 4, -5]), 9)\n",
    "        self.assertEqual(positive_sum([]), 0)\n",
    "        self.assertEqual(positive_sum([-1, -2, -3, -4, -5]), 0)\n",
    "\n",
    "    def test_sum_mixed_array(self):\n",
    "        self.assertEqual(mixed_sum([9, 3, \"7\", \"3\"]), 22)\n",
    "        self.assertEqual(mixed_sum([\"5\", \"0\", 9, 3, 2, 1, \"9\", 6, 7]), 42)\n",
    "        self.assertEqual(mixed_sum([\"3\", 6, 6, 0, \"5\", 8, 5, \"6\", 2, \"0\"]), 41)\n",
    "        self.assertEqual(mixed_sum([\"1\", \"5\", \"8\", 8, 9, 9, 2, \"3\"]), 45)\n",
    "        self.assertEqual(mixed_sum([8, 0, 0, 8, 5, 7, 2, 3, 7, 8, 6, 7]), 61)\n",
    "\n",
    "    def test_return_day(self):\n",
    "        self.assertEqual(what_day(1), \"Sunday\")\n",
    "        self.assertEqual(what_day(2), \"Monday\")\n",
    "        self.assertEqual(what_day(3), \"Tuesday\")\n",
    "        self.assertEqual(what_day(8), \"Wrong, please enter a number between 1 and 7\")\n",
    "        self.assertEqual(what_day(20), \"Wrong, please enter a number between 1 and 7\")\n",
    "\n",
    "    def test_summation(self):\n",
    "        self.assertEqual(summation(1), 1)\n",
    "        self.assertEqual(summation(8), 36)\n",
    "\n",
    "    def test_count_sheep(self):\n",
    "        self.assertEqual(count_sheep(1), \"1 sheep...\")\n",
    "        self.assertEqual(count_sheep(2), \"1 sheep...2 sheep...\")\n",
    "        self.assertEqual(count_sheep(3), \"1 sheep...2 sheep...3 sheep...\")\n",
    "\n",
    "    def test_final_grade(self):\n",
    "        self.assertEqual(final_grade(100, 12), 100)\n",
    "        self.assertEqual(final_grade(85, 5), 90)\n",
    "\n",
    "\n",
    "unittest.main(argv=[\"\"], verbosity=2, exit=False)"
   ]
  },
  {
   "cell_type": "code",
   "execution_count": null,
   "metadata": {},
   "outputs": [],
   "source": []
  }
 ],
 "metadata": {
  "kernelspec": {
   "display_name": "Python 3 (ipykernel)",
   "language": "python",
   "name": "python3"
  },
  "language_info": {
   "codemirror_mode": {
    "name": "ipython",
    "version": 3
   },
   "file_extension": ".py",
   "mimetype": "text/x-python",
   "name": "python",
   "nbconvert_exporter": "python",
   "pygments_lexer": "ipython3",
   "version": "3.10.9"
  }
 },
 "nbformat": 4,
 "nbformat_minor": 4
}
