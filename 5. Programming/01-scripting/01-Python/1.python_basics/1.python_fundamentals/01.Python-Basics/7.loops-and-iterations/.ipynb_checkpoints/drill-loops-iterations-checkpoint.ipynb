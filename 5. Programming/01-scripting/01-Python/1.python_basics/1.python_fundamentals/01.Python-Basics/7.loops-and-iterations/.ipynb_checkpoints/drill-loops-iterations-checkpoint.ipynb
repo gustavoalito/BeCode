{
 "cells": [
  {
   "cell_type": "markdown",
   "metadata": {},
   "source": [
    "# Drill loops and iterations"
   ]
  },
  {
   "cell_type": "markdown",
   "metadata": {},
   "source": [
    "### 1. Display all students in the `students` list in alphabetical order."
   ]
  },
  {
   "cell_type": "code",
   "execution_count": 9,
   "metadata": {},
   "outputs": [
    {
     "name": "stdout",
     "output_type": "stream",
     "text": [
      "Adrien\n",
      "Axel\n",
      "Baptiste\n",
      "Caroline\n",
      "Joe\n",
      "Mathieu\n",
      "Merouane\n",
      "Nathan\n",
      "Raphaël\n",
      "Sophie\n"
     ]
    }
   ],
   "source": [
    "students = [\n",
    "    \"Merouane\",\n",
    "    \"Baptiste\",\n",
    "    \"Caroline\",\n",
    "    \"Joe\",\n",
    "    \"Sophie\",\n",
    "    \"Nathan\",\n",
    "    \"Raphaël\",\n",
    "    \"Axel\",\n",
    "    \"Mathieu\",\n",
    "    \"Adrien\",\n",
    "]\n",
    "sorted_students = sorted(students)\n",
    "for pupil in sorted_students:\n",
    "    print(pupil)"
   ]
  },
  {
   "cell_type": "markdown",
   "metadata": {},
   "source": [
    "### 2. Display only the names which begin with the letter \"M\"."
   ]
  },
  {
   "cell_type": "markdown",
   "metadata": {},
   "source": [
    "The letter we want to filter (M) by is stored in the *letter* variable. The loop iterates over each name in the list, and the startswith() method is used to check if each name begins with the given letter. If a name satisfies the condition, it is printed.\n",
    "**NOTE:** The startswith() function in Python accepts only string data. It is a string method that checks whether a string starts with a specified prefix."
   ]
  },
  {
   "cell_type": "code",
   "execution_count": 11,
   "metadata": {},
   "outputs": [
    {
     "name": "stdout",
     "output_type": "stream",
     "text": [
      "Mathieu\n",
      "Merouane\n"
     ]
    }
   ],
   "source": [
    "letter = \"M\"\n",
    "\n",
    "for name in sorted_students:\n",
    "    if name.startswith(letter):\n",
    "        print(name)"
   ]
  },
  {
   "cell_type": "markdown",
   "metadata": {},
   "source": [
    "### 3. Display integers from 0 to 15 not included, using a `for` loop and the `range()` instruction."
   ]
  },
  {
   "cell_type": "code",
   "execution_count": 12,
   "metadata": {},
   "outputs": [
    {
     "name": "stdout",
     "output_type": "stream",
     "text": [
      "0\n",
      "1\n",
      "2\n",
      "3\n",
      "4\n",
      "5\n",
      "6\n",
      "7\n",
      "8\n",
      "9\n",
      "10\n",
      "11\n",
      "12\n",
      "13\n",
      "14\n"
     ]
    }
   ],
   "source": [
    "for i in range(15):\n",
    "    print(i)"
   ]
  },
  {
   "cell_type": "markdown",
   "metadata": {},
   "source": [
    "### 4. Create a `for` loop that displays integers from 1 to 10 included, but use the `break` instruction to interrupt it at 5."
   ]
  },
  {
   "cell_type": "code",
   "execution_count": 20,
   "metadata": {},
   "outputs": [
    {
     "name": "stdout",
     "output_type": "stream",
     "text": [
      "1\n",
      "End of iteration:  1\n",
      "2\n",
      "End of iteration:  2\n",
      "3\n",
      "End of iteration:  3\n",
      "4\n",
      "End of iteration:  4\n",
      "5\n",
      "Enf of the entire loop at 5\n"
     ]
    }
   ],
   "source": [
    "for i in range(1,11):\n",
    "    print(i)\n",
    "    if i == 5:\n",
    "        break\n",
    "    print(\"End of iteration: \", i)\n",
    "print(\"Enf of the entire loop at\", i)\n"
   ]
  },
  {
   "cell_type": "markdown",
   "metadata": {},
   "source": [
    "### 4. Create a `for` loop that displays integers from 1 to 10 included, but use the `continue` to modify its execution at 5."
   ]
  },
  {
   "cell_type": "code",
   "execution_count": 23,
   "metadata": {},
   "outputs": [
    {
     "name": "stdout",
     "output_type": "stream",
     "text": [
      "Starting iterarion  1\n",
      "Starting iterarion  2\n",
      "Starting iterarion  3\n",
      "Starting iterarion  4\n",
      "Starting iterarion  5\n",
      "Take a break at  5\n",
      "Starting iterarion  6\n",
      "Take a break at  6\n",
      "Starting iterarion  7\n",
      "Take a break at  7\n",
      "Starting iterarion  8\n",
      "Take a break at  8\n",
      "Starting iterarion  9\n",
      "Take a break at  9\n",
      "Starting iterarion  10\n",
      "Take a break at  10\n",
      "The end\n"
     ]
    }
   ],
   "source": [
    "for i in range(1, 11):\n",
    "    print(\"Starting iterarion \", i)\n",
    "    if i < 5:\n",
    "        continue\n",
    "    print(\"Take a break at \", i)\n",
    "print(\"The end\")"
   ]
  },
  {
   "cell_type": "markdown",
   "metadata": {},
   "source": [
    "### 6. Follow the instructions :"
   ]
  },
  {
   "cell_type": "markdown",
   "metadata": {},
   "source": [
    "- **Sort and display the list.**\n",
    "    - Output expected: `[10, 17, 25, 38, 72]`\n",
    "- **Add item 12 to the list and display the list.**\n",
    "    - Output expected: `[17, 38, 10, 25, 72, 12]`\n",
    "- **Reverse and display the list.**\n",
    "    - Output expected: `[12, 72, 25, 10, 38, 17]`\n",
    "- **Display the index of element 17.**\n",
    "    - Output expected: `5`\n",
    "- **Remove item 38 and display the list.**\n",
    "    - Output expected: `[12, 72, 25, 10, 17]`\n",
    "- **Display the sub-list of the 2nd to 3rd element.**\n",
    "    - Output expected: `[72, 25]`\n",
    "- **Display the sub-list from the beginning to the 2nd element.**\n",
    "    - Output expected: `[12, 72]`\n",
    "- **Display the sub-list of the 3rd element at the end of the list.**\n",
    "    - Output expected: `[25, 10, 17]`\n",
    "- **Display the complete sub-list of the list.**\n",
    "    - Output expected: `[12, 72, 25, 10, 17]`\n",
    "- **Display the last element using a negative indication.**\n",
    "    - Output expected: `[17]`"
   ]
  },
  {
   "cell_type": "code",
   "execution_count": 48,
   "metadata": {},
   "outputs": [
    {
     "name": "stdout",
     "output_type": "stream",
     "text": [
      "[10, 17, 25, 38, 72]\n",
      "[17, 38, 10, 25, 72, 12]\n",
      "[12, 72, 25, 10, 38, 17]\n",
      "5\n",
      "[12, 72, 25, 10, 17]\n",
      "[72, 25]\n",
      "[12, 72]\n",
      "[25, 10, 17]\n",
      "[12, 72, 25, 10, 17]\n",
      "[17]\n"
     ]
    }
   ],
   "source": [
    "# Sort and display the list.\n",
    "list_of_numbers = [17, 38, 10, 25, 72]\n",
    "sorted_list = sorted(list_of_numbers)\n",
    "print(sorted_list)\n",
    "\n",
    "# Add item 12 to the list and display the list.\n",
    "list_of_numbers.append(12)\n",
    "print(list_of_numbers)\n",
    "\n",
    "# Reverse and display the list.\n",
    "reversed_list = list(reversed(list_of_numbers))\n",
    "print(reversed_list)\n",
    "\n",
    "# Display the index of element 17.\n",
    "whereis17 = reversed_list.index(17)\n",
    "print(whereis17)\n",
    "\n",
    "# Remove item 38 and display the list.\n",
    "reversed_list.remove(38)\n",
    "print(reversed_list)\n",
    "\n",
    "# Display the sub-list of the 2nd to 3rd element. Remember the 1st index starts at ZERO.\n",
    "index_1and2 = [reversed_list[1], reversed_list[2]]\n",
    "print(index_1and2)\n",
    "\n",
    "# Display the sub-list from the beginning to the 2nd element.\n",
    "up_to_2 = reversed_list[:2]\n",
    "print(up_to_2)\n",
    "\n",
    "# Display the sub-list of the 3rd element at the end of the list.The last 3 elements, as I understand.\n",
    "third_last = reversed_list[-3:]\n",
    "print(third_last)\n",
    "\n",
    "# Display the complete sub-list of the list.\n",
    "print(reversed_list)\n",
    "\n",
    "# Display the last element using a negative indication.\n",
    "last_element = reversed_list[-1:]\n",
    "print(last_element)"
   ]
  },
  {
   "cell_type": "markdown",
   "metadata": {},
   "source": [
    "### 7. Write an algorithm that:\n",
    "1. Asks the user to enter a number.\n",
    "2. Make sure that your program displays all the numbers down to 0. For example, if the user enters the number 3, then your program will display something like this: `3,2,1,0`"
   ]
  },
  {
   "cell_type": "code",
   "execution_count": 62,
   "metadata": {},
   "outputs": [
    {
     "name": "stdout",
     "output_type": "stream",
     "text": [
      "Enter a number: 3\n",
      "3,2,1,0\n"
     ]
    }
   ],
   "source": [
    "number = int(input(\"Enter a number: \"))\n",
    "numbers = [str(i) for i in range(number, -1, -1)]\n",
    "decreased_list = \",\".join(numbers)\n",
    "print(decreased_list)    "
   ]
  },
  {
   "cell_type": "markdown",
   "metadata": {},
   "source": [
    "We created  a list called numbers using a list comprehension: [str(i) for i in range(number, -1, -1)]. A list comprehension is a concise way to create a list based on an expression and an iterative range. In this case, it creates a list of strings by iterating over a range that starts from num and goes down to 0 (inclusive), with a step of -1. For each number i in the range, str(i) converts it to a string, and the resulting string is added to the numbers list.\n",
    "\n",
    "The range() function generates a sequence of numbers within a specified **range. It takes up to three arguments: start, stop, and step. In this case, the start value is num, and the step value is -1.**\n",
    "\n",
    "The stop value represents the upper limit of the sequence, but it is exclusive, meaning it will not be included in the generated sequence. By using -1 as the stop value, we are indicating that we want the sequence to continue until (but not including) -1.\n",
    "\n",
    "So, when num is greater than -1, the range will start from *number* and continue down to -1, decrementing by 1 at each step.\n",
    "\n",
    "After creating the numbers list, the next line converts the list of strings into a single string with elements separated by commas: numbers_str = \",\".join(numbers). The join() method is called on the string \",\" and takes the numbers list as an argument. It concatenates all the elements of the list together, separated by commas, and returns a new string, which is assigned to the variable *decreased_list*."
   ]
  },
  {
   "cell_type": "markdown",
   "metadata": {},
   "source": [
    "### 8.The price is right ! \n",
    "- Create a variable that will contain the number to be found. \n",
    "- Then create a function that will ask the user to find this price (asking for a number). \n",
    "- If the user enters a number that is too high, output the sentence: \"It's less.\". \n",
    "- If he enters a number that is too low, output the sentence: \"It's more.\". \n",
    "- If the user finds the right price, output the sentence: \"Well done, you won!\"."
   ]
  },
  {
   "cell_type": "code",
   "execution_count": 80,
   "metadata": {},
   "outputs": [
    {
     "name": "stdout",
     "output_type": "stream",
     "text": [
      "Find the price for one Leffe Blonde 33cl in a bar in Brussels\n",
      "Guess the price: 5\n",
      "It's less!\n",
      "Guess the price: 3\n",
      "It's more!\n",
      "Guess the price: 4.5\n",
      "Well done, you won a free Leffe Blonde 33cl!\n"
     ]
    }
   ],
   "source": [
    "number = float(4.5)\n",
    "print(\"Find the price for one Leffe Blonde 33cl in a bar in Brussels\")\n",
    "\n",
    "while True:\n",
    "    guess = float(input(\"Guess the price: \"))\n",
    "\n",
    "    if guess > number:\n",
    "        print(\"It's less!\")\n",
    "    elif guess < number:\n",
    "        print(\"It's more!\")\n",
    "    else:\n",
    "        print(\"Well done, you won a free Leffe Blonde 33cl!\")\n",
    "        break\n"
   ]
  },
  {
   "cell_type": "markdown",
   "metadata": {},
   "source": [
    "### 9. Display all students with the sentence \"NAME is an alumni. \""
   ]
  },
  {
   "cell_type": "code",
   "execution_count": 82,
   "metadata": {},
   "outputs": [
    {
     "name": "stdout",
     "output_type": "stream",
     "text": [
      "David is an alumni.\n",
      "Justine is an alumni.\n",
      "Valentin is an alumni.\n",
      "Axel is an alumni.\n",
      "Redouane is an alumni.\n",
      "Julie is an alumni.\n",
      "Stéphane is an alumni.\n",
      "Mostapha is an alumni.\n",
      "Claudiu is an alumni.\n",
      "Son is an alumni.\n"
     ]
    }
   ],
   "source": [
    "all_students = [\n",
    "    [\"David\", \"Justine\", \"Valentin\", \"Axel\", \"Redouane\"],\n",
    "    [\"Julie\", \"Stéphane\", \"Mostapha\", \"Claudiu\", \"Son\"],\n",
    "]\n",
    "\n",
    "for student_row in all_students:\n",
    "    for student in student_row:\n",
    "        print(student + \" is an alumni.\")"
   ]
  },
  {
   "cell_type": "markdown",
   "metadata": {},
   "source": [
    "The variable *student_row* is used to represent each row in the *all_students* list. The inner loop then iterates through each student in the current row and prints the student's name followed by \"is an alumni.\""
   ]
  },
  {
   "cell_type": "markdown",
   "metadata": {},
   "source": [
    "**10. Display all elements. If the element is part of the first list, display - `\"ELEMENT_HERE is a backend language?\"` - and if the element is part of the second list, display - `\"ELEMENT_HERE is a frontend language?\"`** "
   ]
  },
  {
   "cell_type": "code",
   "execution_count": 83,
   "metadata": {},
   "outputs": [
    {
     "name": "stdout",
     "output_type": "stream",
     "text": [
      "PHP is a backed language?\n",
      "Java is a backed language?\n",
      "C# is a backed language?\n",
      "HTML is a frontend language?\n",
      "CSS is a frontend language?\n",
      "Javascript is a frontend language?\n"
     ]
    }
   ],
   "source": [
    "languages = [[\"PHP\", \"Java\", \"C#\"], [\"HTML\", \"CSS\", \"Javascript\"]]\n",
    "\n",
    "for element in languages[0]:\n",
    "    print(element + \" is a backed language?\")\n",
    "for element in languages[1]:\n",
    "    print(element + \" is a frontend language?\")"
   ]
  },
  {
   "cell_type": "markdown",
   "metadata": {},
   "source": [
    "We simply iterated each list by it's index. the variable *languages* is comprised of 2 elements (lists). Meaning that each list has actually one index (one element). \n",
    "This code iterates over each element in the first list (backend languages) and prints a message indicating that it is a backend language. Then, it does the same for each element in the second list (frontend languages) and prints a message indicating that it is a frontend language."
   ]
  },
  {
   "cell_type": "markdown",
   "metadata": {},
   "source": [
    "## [Next one](../8.everything-is-object/everything-is-object.ipynb)"
   ]
  }
 ],
 "metadata": {
  "kernelspec": {
   "display_name": "Python 3 (ipykernel)",
   "language": "python",
   "name": "python3"
  },
  "language_info": {
   "codemirror_mode": {
    "name": "ipython",
    "version": 3
   },
   "file_extension": ".py",
   "mimetype": "text/x-python",
   "name": "python",
   "nbconvert_exporter": "python",
   "pygments_lexer": "ipython3",
   "version": "3.10.9"
  }
 },
 "nbformat": 4,
 "nbformat_minor": 2
}
