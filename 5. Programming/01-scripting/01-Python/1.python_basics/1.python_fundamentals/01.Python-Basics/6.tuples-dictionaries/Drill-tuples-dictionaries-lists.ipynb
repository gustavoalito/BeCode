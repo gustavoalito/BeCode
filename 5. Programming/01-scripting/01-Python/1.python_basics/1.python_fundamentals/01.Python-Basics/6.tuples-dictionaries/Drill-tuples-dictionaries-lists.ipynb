{
 "cells": [
  {
   "cell_type": "markdown",
   "metadata": {},
   "source": [
    "# Drill : Lists, Tuples, Dictionaries"
   ]
  },
  {
   "cell_type": "markdown",
   "metadata": {},
   "source": [
    "### 1. Choose 5 words from the English language and create  dictionaries that associates each of these words with its French translation."
   ]
  },
  {
   "cell_type": "code",
   "execution_count": 1,
   "metadata": {},
   "outputs": [
    {
     "name": "stdout",
     "output_type": "stream",
     "text": [
      "{'apple': 'pome', 'dog': 'chien', 'cat': 'chat', 'beer': 'bière', 'sun': 'soleil'}\n"
     ]
    }
   ],
   "source": [
    "en_fr = {\"apple\" : \"pome\", \"dog\" : \"chien\", \"cat\" : \"chat\", \"beer\" : \"bière\", \"sun\" : \"soleil\"}\n",
    "print(en_fr)"
   ]
  },
  {
   "cell_type": "markdown",
   "metadata": {},
   "source": [
    "### 2. Add an entry to the dictionary of the previous question (a new word and its definition)."
   ]
  },
  {
   "cell_type": "code",
   "execution_count": 2,
   "metadata": {},
   "outputs": [
    {
     "name": "stdout",
     "output_type": "stream",
     "text": [
      "{'apple': 'pome', 'dog': 'chien', 'cat': 'chat', 'beer': 'bière', 'sun': 'soleil', 'calendar': 'calendrier'}\n"
     ]
    }
   ],
   "source": [
    "en_fr[\"calendar\"] = \"calendrier\"\n",
    "print(en_fr)"
   ]
  },
  {
   "cell_type": "markdown",
   "metadata": {},
   "source": [
    "### 3. How would you cut the following string at each space and put it in a list?"
   ]
  },
  {
   "cell_type": "code",
   "execution_count": 4,
   "metadata": {},
   "outputs": [
    {
     "name": "stdout",
     "output_type": "stream",
     "text": [
      "['I', 'am', 'the', 'master', 'of', 'the', 'world']\n"
     ]
    }
   ],
   "source": [
    "sentence = \"I am the master of the world\"\n",
    "word_list = sentence.split()\n",
    "print(word_list)"
   ]
  },
  {
   "cell_type": "markdown",
   "metadata": {},
   "source": [
    "The split() function is called on the *sentence* variable without any arguments. By default, it splits the string at each space character and returns a list of substrings.\n",
    "\n",
    "If you have a specific delimiter other than a space, you can pass it as an argument to the split() function. For example, to split a string at commas, you would use split(',')."
   ]
  },
  {
   "cell_type": "markdown",
   "metadata": {},
   "source": [
    "### 4. Transform this string \"The_universal_number_is_42\" by removing the underscores: \"The universal number is 42\""
   ]
  },
  {
   "cell_type": "code",
   "execution_count": 5,
   "metadata": {},
   "outputs": [
    {
     "name": "stdout",
     "output_type": "stream",
     "text": [
      "The universal number is 42\n"
     ]
    }
   ],
   "source": [
    "universal_number = \"The_universal_number_is_42\"\n",
    "transformed_string = universal_number.replace(\"_\", \" \")\n",
    "print(transformed_string)"
   ]
  },
  {
   "cell_type": "markdown",
   "metadata": {},
   "source": [
    " The replace() method is used to replace all occurrences of the underscore character (\"_\") with a space character (\" \")."
   ]
  },
  {
   "cell_type": "markdown",
   "metadata": {},
   "source": [
    "### 5. Display only values of this dictionary."
   ]
  },
  {
   "cell_type": "code",
   "execution_count": 10,
   "metadata": {},
   "outputs": [
    {
     "name": "stdout",
     "output_type": "stream",
     "text": [
      "Clark Kent\n",
      "Bruce Wayne\n",
      "Tony Parker\n"
     ]
    }
   ],
   "source": [
    "heroes = {\"Superman\": \"Clark Kent\", \"Batman\": \"Bruce Wayne\", \"Spiderman\": \"Tony Parker\"}\n",
    "for value in heroes.values():\n",
    "    print(value)"
   ]
  },
  {
   "cell_type": "markdown",
   "metadata": {},
   "source": [
    "To print only the values of each key-value pair in the dictionary, you can iterate over the values using a loop and then print each value.\n",
    "The values() method is used to retrieve all the values from the heroes dictionary. The loop then iterates over each value and prints it using the print() function."
   ]
  },
  {
   "cell_type": "markdown",
   "metadata": {},
   "source": [
    "### 6. Display only keys of this dictionary."
   ]
  },
  {
   "cell_type": "code",
   "execution_count": 12,
   "metadata": {},
   "outputs": [
    {
     "name": "stdout",
     "output_type": "stream",
     "text": [
      "Superman\n",
      "Batman\n",
      "Spiderman\n"
     ]
    }
   ],
   "source": [
    "heroes = {\"Superman\": \"Clark Kent\", \"Batman\": \"Bruce Wayne\", \"Spiderman\": \"Tony Parker\"}\n",
    "for keys in heroes.keys():\n",
    "    print(keys)"
   ]
  },
  {
   "cell_type": "markdown",
   "metadata": {},
   "source": [
    "As seen in the previous example, we can retrieve the values of a dictionary by calling the *values()* function. To retrieve the keys, we therefore call the *keys()* function."
   ]
  },
  {
   "cell_type": "markdown",
   "metadata": {},
   "source": [
    "### 7. Replace the value of  \"Spiderman\" by \"Peter Parker\"."
   ]
  },
  {
   "cell_type": "code",
   "execution_count": 13,
   "metadata": {},
   "outputs": [
    {
     "name": "stdout",
     "output_type": "stream",
     "text": [
      "{'Superman': 'Clark Kent', 'Batman': 'Bruce Wayne', 'Spiderman': 'Peter Parker'}\n"
     ]
    }
   ],
   "source": [
    "heroes = {\"Superman\": \"Clark Kent\", \"Batman\": \"Bruce Wayne\", \"Spiderman\": \"Tony Parker\"}\n",
    "heroes[\"Spiderman\"] = \"Peter Parker\"\n",
    "print(heroes)"
   ]
  },
  {
   "cell_type": "markdown",
   "metadata": {},
   "source": [
    "### 8. Create a dictionary to build the price base of the products corresponding to the following table.\n",
    "\n",
    "    Laser sword // 229.0\n",
    "    Mitendo DX // 127.30\n",
    "    Linux cushion // 74.50\n",
    "    Goldorak briefs // 29.90\n",
    "    Nextpresso station // 184.60"
   ]
  },
  {
   "cell_type": "code",
   "execution_count": 15,
   "metadata": {},
   "outputs": [
    {
     "name": "stdout",
     "output_type": "stream",
     "text": [
      "{'Laser sword': 229.0, 'Nitendo DX': 127.3, 'Linux cushion': 74.5, 'Goldorak briefs': 29.9, 'Nespresso station': 184.6}\n"
     ]
    }
   ],
   "source": [
    "product_prices = {\n",
    "    \"Laser sword\" : 229.0,\n",
    "    \"Nitendo DX\" : 127.30,\n",
    "    \"Linux cushion\" : 74.50,\n",
    "    \"Goldorak briefs\" : 29.90,\n",
    "    \"Nespresso station\" : 184.60\n",
    "}\n",
    "print (product_prices)"
   ]
  },
  {
   "cell_type": "markdown",
   "metadata": {},
   "source": [
    "### 9. Calculate the total price of the items of the dictionary."
   ]
  },
  {
   "cell_type": "code",
   "execution_count": 18,
   "metadata": {},
   "outputs": [
    {
     "name": "stdout",
     "output_type": "stream",
     "text": [
      "645.3\n"
     ]
    }
   ],
   "source": [
    "total_price = sum(product_prices.values())\n",
    "print(total_price)"
   ]
  },
  {
   "cell_type": "markdown",
   "metadata": {},
   "source": [
    "### 10. Remove one of the articles from the dictionary."
   ]
  },
  {
   "cell_type": "code",
   "execution_count": 19,
   "metadata": {},
   "outputs": [
    {
     "name": "stdout",
     "output_type": "stream",
     "text": [
      "{'Laser sword': 229.0, 'Nitendo DX': 127.3, 'Linux cushion': 74.5, 'Goldorak briefs': 29.9}\n"
     ]
    }
   ],
   "source": [
    "del product_prices[\"Nespresso station\"]\n",
    "print(product_prices)"
   ]
  },
  {
   "cell_type": "markdown",
   "metadata": {},
   "source": [
    "The most popular method for removing a key:value pair from a dictionary is to use the *del* keyword. You can also use it to eliminate a whole dictionary or specific words.\n",
    "del dictionary[key]"
   ]
  },
  {
   "cell_type": "markdown",
   "metadata": {},
   "source": [
    "## [Next one](../7.loops-and-iterations/loops-and-iterations.ipynb)"
   ]
  }
 ],
 "metadata": {
  "kernelspec": {
   "display_name": "Python 3 (ipykernel)",
   "language": "python",
   "name": "python3"
  },
  "language_info": {
   "codemirror_mode": {
    "name": "ipython",
    "version": 3
   },
   "file_extension": ".py",
   "mimetype": "text/x-python",
   "name": "python",
   "nbconvert_exporter": "python",
   "pygments_lexer": "ipython3",
   "version": "3.10.9"
  }
 },
 "nbformat": 4,
 "nbformat_minor": 4
}
