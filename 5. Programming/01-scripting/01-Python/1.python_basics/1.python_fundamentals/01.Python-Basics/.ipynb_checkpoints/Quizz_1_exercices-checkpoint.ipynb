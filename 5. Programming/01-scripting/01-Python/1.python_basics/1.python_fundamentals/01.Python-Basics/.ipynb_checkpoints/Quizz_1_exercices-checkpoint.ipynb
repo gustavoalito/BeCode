{
 "cells": [
  {
   "cell_type": "markdown",
   "metadata": {},
   "source": [
    "# Quizz 1 - Python basics"
   ]
  },
  {
   "cell_type": "markdown",
   "metadata": {},
   "source": [
    "## a) type"
   ]
  },
  {
   "cell_type": "markdown",
   "metadata": {},
   "source": [
    "### Create a variable `string` containing `\"toto\"` and a variable `number` containing the number 10."
   ]
  },
  {
   "cell_type": "code",
   "execution_count": 1,
   "metadata": {},
   "outputs": [],
   "source": [
    "string = \"toto\"\n",
    "number = 10"
   ]
  },
  {
   "cell_type": "markdown",
   "metadata": {},
   "source": [
    "### Convert `string` to unicode and `number` to float."
   ]
  },
  {
   "cell_type": "code",
   "execution_count": 2,
   "metadata": {},
   "outputs": [
    {
     "name": "stdout",
     "output_type": "stream",
     "text": [
      "b'toto'\n",
      "10.0\n"
     ]
    }
   ],
   "source": [
    "string_unicode = string.encode()\n",
    "print(string_unicode)\n",
    "number_float = float(number)\n",
    "print(number_float)"
   ]
  },
  {
   "cell_type": "markdown",
   "metadata": {},
   "source": [
    "### Reverse the contents of the variables `string` and `number` (from line 1)."
   ]
  },
  {
   "cell_type": "code",
   "execution_count": 3,
   "metadata": {},
   "outputs": [
    {
     "name": "stdout",
     "output_type": "stream",
     "text": [
      "otot\n",
      "01\n"
     ]
    }
   ],
   "source": [
    "lst = string[::-1]\n",
    "print(lst)\n",
    "num_str = str(number)\n",
    "num_str = num_str[::-1]\n",
    "print(num_str)"
   ]
  },
  {
   "cell_type": "markdown",
   "metadata": {},
   "source": [
    "## b) List"
   ]
  },
  {
   "cell_type": "markdown",
   "metadata": {},
   "source": [
    "### Create a list `first_list`  containing the following integers: 1, 3, 2, 7, 4, 10, 46."
   ]
  },
  {
   "cell_type": "code",
   "execution_count": 4,
   "metadata": {},
   "outputs": [],
   "source": [
    "first_list = [1, 3, 2, 7, 4, 10, 46]"
   ]
  },
  {
   "cell_type": "markdown",
   "metadata": {},
   "source": [
    "\n",
    "### Display the first 3 items in `first_list` - in one line of code."
   ]
  },
  {
   "cell_type": "code",
   "execution_count": 5,
   "metadata": {},
   "outputs": [
    {
     "name": "stdout",
     "output_type": "stream",
     "text": [
      "[1, 3, 2]\n"
     ]
    }
   ],
   "source": [
    "print(first_list[:3])"
   ]
  },
  {
   "cell_type": "markdown",
   "metadata": {},
   "source": [
    "### Create a `second_list` that contains only the 3rd, 4th and 5th elements of `first_list` . Your list indexing should use 3 characters at most (not including spaces) - Check your result carefully!"
   ]
  },
  {
   "cell_type": "code",
   "execution_count": 6,
   "metadata": {},
   "outputs": [
    {
     "name": "stdout",
     "output_type": "stream",
     "text": [
      "[2, 7, 4]\n"
     ]
    }
   ],
   "source": [
    "second_list = first_list[2:5]\n",
    "print(second_list)"
   ]
  },
  {
   "cell_type": "markdown",
   "metadata": {},
   "source": [
    "### Concatenate `first_list` and `second_list` to form `third_list`."
   ]
  },
  {
   "cell_type": "code",
   "execution_count": 7,
   "metadata": {},
   "outputs": [
    {
     "name": "stdout",
     "output_type": "stream",
     "text": [
      "[1, 3, 2, 7, 4, 10, 46, 2, 7, 4]\n"
     ]
    }
   ],
   "source": [
    "third_list = first_list + second_list\n",
    "print(third_list)"
   ]
  },
  {
   "cell_type": "markdown",
   "metadata": {},
   "source": [
    "### Using the zip function, associate the values of `first_list` and `second_list` in the variable `tuple_of_lists`."
   ]
  },
  {
   "cell_type": "code",
   "execution_count": 8,
   "metadata": {},
   "outputs": [
    {
     "name": "stdout",
     "output_type": "stream",
     "text": [
      "[(1, 2), (3, 7), (2, 4)]\n"
     ]
    }
   ],
   "source": [
    "tuple_of_list = list(zip(first_list, second_list))\n",
    "print(tuple_of_list)"
   ]
  },
  {
   "cell_type": "markdown",
   "metadata": {},
   "source": [
    "Ref.: https://realpython.com/python-zip-function/"
   ]
  },
  {
   "cell_type": "markdown",
   "metadata": {},
   "source": [
    "### Add the number 5 to `first_list`."
   ]
  },
  {
   "cell_type": "code",
   "execution_count": 9,
   "metadata": {},
   "outputs": [
    {
     "name": "stdout",
     "output_type": "stream",
     "text": [
      "[1, 3, 2, 7, 4, 10, 46, 5]\n"
     ]
    }
   ],
   "source": [
    "first_list.append(5)\n",
    "print(first_list)"
   ]
  },
  {
   "cell_type": "markdown",
   "metadata": {},
   "source": [
    "### Add a null element to `third_list`."
   ]
  },
  {
   "cell_type": "code",
   "execution_count": 10,
   "metadata": {},
   "outputs": [
    {
     "name": "stdout",
     "output_type": "stream",
     "text": [
      "[1, 3, 2, 7, 4, 10, 46, 2, 7, 4, None]\n"
     ]
    }
   ],
   "source": [
    "third_list.append(None)\n",
    "print(third_list)"
   ]
  },
  {
   "cell_type": "markdown",
   "metadata": {},
   "source": [
    "### Write a function that takes as arguments a list `my_list` and an integer `n` and returns the result of `n` concatenations of `my_list` with itself."
   ]
  },
  {
   "cell_type": "code",
   "execution_count": 11,
   "metadata": {},
   "outputs": [
    {
     "name": "stdout",
     "output_type": "stream",
     "text": [
      "[1, 2, 3, 4, 5, 1, 2, 3, 4, 5, 1, 2, 3, 4, 5]\n"
     ]
    }
   ],
   "source": [
    "def list_conc(my_list, n):\n",
    "    my_list = my_list * n\n",
    "    return my_list\n",
    "\n",
    "result = list_conc([1, 2, 3, 4, 5], 3)\n",
    "print(result)"
   ]
  },
  {
   "cell_type": "markdown",
   "metadata": {},
   "source": [
    "### You want to make parameter `n` optional and set its value to 2 by default. How do you do it?"
   ]
  },
  {
   "cell_type": "code",
   "execution_count": 12,
   "metadata": {},
   "outputs": [
    {
     "name": "stdout",
     "output_type": "stream",
     "text": [
      "[1, 2, 3, 1, 2, 3]\n"
     ]
    }
   ],
   "source": [
    "def list_conc(my_list, n = 2):\n",
    "    my_list = my_list * n\n",
    "    return my_list\n",
    "\n",
    "result = list_conc([1, 2, 3])\n",
    "print(result)"
   ]
  },
  {
   "cell_type": "markdown",
   "metadata": {},
   "source": [
    "###  With a `while` loop, print each element of `third_list` up to the `null` element."
   ]
  },
  {
   "cell_type": "code",
   "execution_count": 13,
   "metadata": {},
   "outputs": [
    {
     "name": "stdout",
     "output_type": "stream",
     "text": [
      "1\n",
      "3\n",
      "2\n",
      "7\n",
      "4\n",
      "10\n",
      "46\n",
      "2\n",
      "7\n",
      "4\n"
     ]
    }
   ],
   "source": [
    "i = 0\n",
    "\n",
    "while i < len(third_list):\n",
    "    for element in third_list:\n",
    "        i += 1\n",
    "        if element == None:\n",
    "            break\n",
    "        print(element)"
   ]
  },
  {
   "cell_type": "markdown",
   "metadata": {},
   "source": [
    "### Calculate, with a `for` loop, the number of even integers present in the list `first_list`."
   ]
  },
  {
   "cell_type": "code",
   "execution_count": 14,
   "metadata": {},
   "outputs": [
    {
     "name": "stdout",
     "output_type": "stream",
     "text": [
      "First list: [1, 3, 2, 7, 4, 10, 46, 5]\n",
      "Number of even integers: 4\n"
     ]
    }
   ],
   "source": [
    "print(f\"First list: {first_list}\")\n",
    "counter = 0\n",
    "\n",
    "for number in first_list:\n",
    "    if number % 2 == 0:\n",
    "        counter += 1\n",
    "        \n",
    "    else: \n",
    "        continue\n",
    "print(f\"Number of even integers: {counter}\")\n",
    "    "
   ]
  },
  {
   "cell_type": "markdown",
   "metadata": {},
   "source": [
    "### Rewrite the following expression with a multi-line `for` loop."
   ]
  },
  {
   "cell_type": "code",
   "execution_count": 15,
   "metadata": {},
   "outputs": [],
   "source": [
    "even_numbers = [element for element in first_list if element % 2 == 0]"
   ]
  },
  {
   "cell_type": "code",
   "execution_count": 16,
   "metadata": {},
   "outputs": [
    {
     "name": "stdout",
     "output_type": "stream",
     "text": [
      "[2, 4, 10, 46]\n"
     ]
    }
   ],
   "source": [
    "even_numbers = []\n",
    "\n",
    "for element in first_list:\n",
    "    if element % 2 == 0:\n",
    "        even_numbers.append(element)\n",
    "print(even_numbers)"
   ]
  },
  {
   "cell_type": "markdown",
   "metadata": {},
   "source": [
    "### Create a function that takes a string as input and returns the first single letter of the string"
   ]
  },
  {
   "cell_type": "code",
   "execution_count": 17,
   "metadata": {},
   "outputs": [
    {
     "name": "stdin",
     "output_type": "stream",
     "text": [
      " Enter a string:  hji1\n"
     ]
    },
    {
     "name": "stdout",
     "output_type": "stream",
     "text": [
      "The first alphabetic letter found is: \"h\". \n",
      "Its index is : 0\n"
     ]
    }
   ],
   "source": [
    "# initializing string\n",
    "string = input(\" Enter a string: \")\n",
    "\n",
    "# First alphabet index\n",
    "alphabet = \"aAbBcCdDeEfFgGhHiIjJkKlLmMnNoOpPqQrRsStTuUvVwWxXyYzZ\"\n",
    "result = 0\n",
    "\n",
    "for i in string:\n",
    "    if i in alphabet:\n",
    "        result = string.index(i)\n",
    "        break\n",
    "\n",
    "# printing result\n",
    "print(f\"The first alphabetic letter found is: \\\"{i}\\\". \\nIts index is : \" + str(result))\n"
   ]
  },
  {
   "cell_type": "markdown",
   "metadata": {},
   "source": [
    "Ref.: https://www.geeksforgeeks.org/python-first-alphabet-index/ (using Method #4)"
   ]
  },
  {
   "cell_type": "markdown",
   "metadata": {},
   "source": [
    "## c) Dictionaries"
   ]
  },
  {
   "cell_type": "markdown",
   "metadata": {},
   "source": [
    "### Create a `car` dictionary with the following keys and values:\n",
    "| key  | value |\n",
    "|---|---|\n",
    "| brand  | Ford  |\n",
    "| model  | Mustang |\n",
    "| year  | 1964 |"
   ]
  },
  {
   "cell_type": "code",
   "execution_count": 18,
   "metadata": {},
   "outputs": [
    {
     "name": "stdout",
     "output_type": "stream",
     "text": [
      "{'brand': 'Ford', 'model': 'Mustang', 'year': '1964'}\n",
      "<class 'dict'>\n"
     ]
    }
   ],
   "source": [
    "car = dict(brand = \"Ford\", model = \"Mustang\", year = \"1964\")\n",
    "print(car)\n",
    "print(type(car))"
   ]
  },
  {
   "cell_type": "markdown",
   "metadata": {},
   "source": [
    "### Access the `year` value."
   ]
  },
  {
   "cell_type": "code",
   "execution_count": 19,
   "metadata": {},
   "outputs": [
    {
     "name": "stdout",
     "output_type": "stream",
     "text": [
      "1964\n"
     ]
    },
    {
     "data": {
      "text/plain": [
       "'1964'"
      ]
     },
     "execution_count": 19,
     "metadata": {},
     "output_type": "execute_result"
    }
   ],
   "source": [
    "# Method 1\n",
    "print(car[\"year\"]) \n",
    "\n",
    "# Method 2\n",
    "car.get(\"year\") "
   ]
  },
  {
   "cell_type": "markdown",
   "metadata": {},
   "source": [
    "###  Use a loop to display all the dictionary keys."
   ]
  },
  {
   "cell_type": "code",
   "execution_count": 20,
   "metadata": {},
   "outputs": [
    {
     "name": "stdout",
     "output_type": "stream",
     "text": [
      "brand\n",
      "model\n",
      "year\n"
     ]
    }
   ],
   "source": [
    "for keys in car:\n",
    "    print(keys)"
   ]
  },
  {
   "cell_type": "markdown",
   "metadata": {},
   "source": [
    "###  Use a loop to display all the dictionary values."
   ]
  },
  {
   "cell_type": "code",
   "execution_count": 21,
   "metadata": {},
   "outputs": [
    {
     "name": "stdout",
     "output_type": "stream",
     "text": [
      "Ford\n",
      "Mustang\n",
      "1964\n"
     ]
    }
   ],
   "source": [
    "for values in car:\n",
    "    print(car[values])"
   ]
  },
  {
   "cell_type": "markdown",
   "metadata": {},
   "source": [
    "### Use a loop to display all the items in the dictionary. Display also the index of each loop iteration (`enumerate` function)."
   ]
  },
  {
   "cell_type": "code",
   "execution_count": 22,
   "metadata": {},
   "outputs": [
    {
     "name": "stdout",
     "output_type": "stream",
     "text": [
      "0 ('brand', 'Ford')\n",
      "1 ('model', 'Mustang')\n",
      "2 ('year', '1964')\n"
     ]
    }
   ],
   "source": [
    "for keys, values in enumerate(car.items()):\n",
    "    print(keys, values)"
   ]
  },
  {
   "cell_type": "markdown",
   "metadata": {},
   "source": [
    "Ref.: https://pythonexamples.org/python-enumerate-a-dictionary/"
   ]
  },
  {
   "cell_type": "markdown",
   "metadata": {},
   "source": [
    "### With the help of a dictionary comprehension, create a dictionary with the following keys and values :\n",
    "| key  | value |\n",
    "|---|---|\n",
    "| cle_1  | dictionary 'car' |\n",
    "| cle_2  | dictionary 'car' |\n",
    "| cle_3  | dictionary 'car'|\n",
    "\n",
    "#### Example of a dictionary comprehension (similar to list comprehension):\n",
    "```\n",
    "dict = {key:value for key, value in zip(list_1, list_2)}\n",
    "```"
   ]
  },
  {
   "cell_type": "code",
   "execution_count": 23,
   "metadata": {},
   "outputs": [
    {
     "name": "stdout",
     "output_type": "stream",
     "text": [
      "{'cle_1': \"dictionary 'car'\", 'cle_2': \"dictionary 'car'\", 'cle_3': \"dictionary 'car'\"}\n"
     ]
    }
   ],
   "source": [
    "fields = [\"cle_1\", \"cle_2\", \"cle_3\"]\n",
    "values = [\"dictionary 'car'\", \"dictionary 'car'\", \"dictionary 'car'\"]\n",
    "dict1 = {fields:values for fields, values in zip(fields, values)}\n",
    "print(dict1)"
   ]
  },
  {
   "cell_type": "markdown",
   "metadata": {},
   "source": [
    "## d) Functions"
   ]
  },
  {
   "cell_type": "markdown",
   "metadata": {
    "tags": []
   },
   "source": [
    "### Create a Fibonacci function called `fibonacci`  (Fibonacci sequence: 0 1 1 2 3 5 8 13 ...)\n",
    "\n",
    "It should return the list of all Fibonacci numbers leading up to the Fibonacci number that is bigger (or equal) than the number passed in as argument.\n",
    "Ex : `fibonacci(10) return [0,1,1,2,3,5,8,13]`\n",
    "Ex : `fibonacci(5) return [0,1,1,2,3,5]`"
   ]
  },
  {
   "cell_type": "code",
   "execution_count": 28,
   "metadata": {},
   "outputs": [
    {
     "name": "stdin",
     "output_type": "stream",
     "text": [
      "Create a Fibonacci sequence up to what number?  10\n"
     ]
    },
    {
     "name": "stdout",
     "output_type": "stream",
     "text": [
      "[0, 1, 1, 2, 3, 5, 8, 13]\n"
     ]
    }
   ],
   "source": [
    "def fibonacci():\n",
    "    # Creating the first 2 numbers and a counter\n",
    "    n1 = 0\n",
    "    n2 = 1\n",
    "      \n",
    "    # List to store the Fobinacci numbers\n",
    "    fibonacci_list = []\n",
    "    \n",
    "    # Check if input is valid (> 0)\n",
    "    if nterms <= 0:\n",
    "        print(\"Enter a positive integer\")\n",
    "    \n",
    "    # If the term provided is = 1\n",
    "    elif nterms == 1:\n",
    "        fibonacci_list = [0, 1]\n",
    "        return fibonacci_list\n",
    "    \n",
    "    # The generation of the Fibonacci sequence\n",
    "    else:\n",
    "        \n",
    "        while n1 <= nterms:\n",
    "            fibonacci_list.append(n1)\n",
    "                        \n",
    "            nth = n1 + n2\n",
    "            # Update values\n",
    "            n1 = n2\n",
    "            n2 = nth\n",
    "            \n",
    "        if fibonacci_list[-1] < nterms:\n",
    "            fibonacci_list.append(n1)\n",
    "            \n",
    "    return fibonacci_list\n",
    "\n",
    "# Example usage\n",
    "nterms = int(input(\"Create a Fibonacci sequence up to what number? \"))\n",
    "fibonacci_sequence = fibonacci()\n",
    "print(fibonacci_sequence)"
   ]
  },
  {
   "cell_type": "markdown",
   "metadata": {},
   "source": [
    "The while loop continues as long as the value of n1 is less than or equal to the input number nterms.\n",
    "Inside the loop, the current Fibonacci number n1 is appended to the 'fibonacci_list'.\n",
    "The next Fibonacci number is calculated by adding the current number n1 and the previous number n2, and the result is stored in nth.\n",
    "The values of n1 and n2 are updated to prepare for the next iteration: n1 becomes the previous number (n2), and n2 becomes the current number (nth).\n",
    "This loop continues until the Fibonacci number (n1) exceeds the input number (nterms). At the end of the loop, fibonacci_list contains all the Fibonacci numbers up to the point where the last number is greater than nterms.\n",
    "The condition checks if the last number in fibonacci_list (accessed using negative indexing fibonacci_list[-1]) is less than the input number nterms.\n",
    "If the condition is true, it means the last number in the Fibonacci sequence is less than nterms.\n",
    "In that case, the last number n1 is appended to fibonacci_list to ensure that the last number is either equal to or greater than nterms."
   ]
  },
  {
   "cell_type": "markdown",
   "metadata": {},
   "source": [
    "### Execute your function. `fibonacci(100)` must be executed in less than 1 second."
   ]
  },
  {
   "cell_type": "code",
   "execution_count": 37,
   "metadata": {},
   "outputs": [
    {
     "name": "stdin",
     "output_type": "stream",
     "text": [
      "Create a Fibonacci sequence up to what number?  100\n"
     ]
    },
    {
     "name": "stdout",
     "output_type": "stream",
     "text": [
      "[0, 1, 1, 2, 3, 5, 8, 13, 21, 34, 55, 89, 144]\n",
      "Time elapsed in ms:  2.351588726043701\n"
     ]
    }
   ],
   "source": [
    "import time\n",
    "start = time.time()\n",
    "\n",
    "nterms = int(input(\"Create a Fibonacci sequence up to what number? \"))\n",
    "fibonacci_sequence = fibonacci()\n",
    "print(fibonacci_sequence)\n",
    "\n",
    "end = time.time()\n",
    "\n",
    "print(\"Time elapsed in ms: \", end - start)"
   ]
  },
  {
   "cell_type": "markdown",
   "metadata": {},
   "source": [
    "### Create the same function using a generator\n",
    "Ex : `generate_fibonacci(10) `"
   ]
  },
  {
   "cell_type": "code",
   "execution_count": 38,
   "metadata": {},
   "outputs": [
    {
     "name": "stdin",
     "output_type": "stream",
     "text": [
      "Generate Fibonacci sequence up to what number?  10\n"
     ]
    },
    {
     "name": "stdout",
     "output_type": "stream",
     "text": [
      "[0, 1, 1, 2, 3, 5, 8, 13]\n"
     ]
    }
   ],
   "source": [
    "def generate_fibonacci(limit):\n",
    "    # Creating the first 2 numbers\n",
    "    n1, n2 = 0, 1\n",
    "    \n",
    "    # Generate Fibonacci numbers\n",
    "    while n1 <= limit:\n",
    "        yield n1\n",
    "        n1, n2 = n2, n1 + n2\n",
    "\n",
    "# Example usage\n",
    "nterm = int(input(\"Generate Fibonacci sequence up to what number? \"))\n",
    "fibonacci_sequence = list(generate_fibonacci(nterm))\n",
    "if fibonacci_sequence[-1] < nterm:\n",
    "    fibonacci_sequence.append(fibonacci_sequence[-1] + fibonacci_sequence[-2])\n",
    "print(fibonacci_sequence)"
   ]
  },
  {
   "cell_type": "markdown",
   "metadata": {},
   "source": [
    "In this code, the function generate_fibonacci is defined as a generator function using the yield keyword. It generates Fibonacci numbers up to the given *nterm*.\n",
    "\n",
    "after generating the Fibonacci numbers using the generator, we check if the last number in the sequence (fibonacci_sequence[-1]) is less than the nterm value. If it is, we calculate the next Fibonacci number by adding the last two numbers in the sequence (fibonacci_sequence[-1] and fibonacci_sequence[-2]), and append it to the sequence. This ensures that the last number in the sequence is either equal to or greater than the nterm value.\n",
    "\n",
    "To use the generator function and obtain the Fibonacci sequence as a list, you can call the function inside the list() function, passing the desired limit as an argument. The result is stored in fibonacci_sequence and printed."
   ]
  }
 ],
 "metadata": {
  "kernelspec": {
   "display_name": "Python 3 (ipykernel)",
   "language": "python",
   "name": "python3"
  },
  "language_info": {
   "codemirror_mode": {
    "name": "ipython",
    "version": 3
   },
   "file_extension": ".py",
   "mimetype": "text/x-python",
   "name": "python",
   "nbconvert_exporter": "python",
   "pygments_lexer": "ipython3",
   "version": "3.10.9"
  }
 },
 "nbformat": 4,
 "nbformat_minor": 4
}
