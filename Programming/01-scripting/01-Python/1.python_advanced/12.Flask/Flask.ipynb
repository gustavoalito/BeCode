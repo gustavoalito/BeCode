{
 "cells": [
  {
   "cell_type": "markdown",
   "metadata": {},
   "source": [
    "# Projet: Formulaire en Python avec Flask\n",
    "Durée : 5 jours \n",
    "\n",
    "- 1 Jour pour vous informer sur Flask : https://openclassrooms.com/fr/courses/4425066-concevez-un-site-avec-flask\n",
    "- 4 Jours pour effectuer le projet. \n",
    "\n",
    "## Compétences travaillées\n",
    "- Backend: PYTHON programming (initiation aux structures logiques)\n",
    "- Sanitzation et validation d'un formulaire\n",
    "- Implémentation des méthodes POST et GET\n",
    "- Implémentation de template avec Jinja\n",
    "\n",
    "## Situation-problème\n",
    "La société *Hackers Poulette* ™ vend des kits et accessoires pour Rasperri Pi à monter soi-même. Elle souhaite permettre à ses utilisateurs de contacter son support technique.\n",
    "Ta mission: développer un script en python, permettant d'afficher un formulaire de contact et de traiter sa réponse: sanitisation, validation, puis envoi et feedback à l'utilisateur.\n",
    "\n",
    "## Critères de performance\n",
    "- Si l'utilisateur commet une erreur, lui retourner le formulaire, avec les réponses valides remises dans leurs inputs respectifs.\n",
    "- Idéalement: afficher les messages d'erreurs à proximité de leur champ respectif.\n",
    "- Le formulaire effectuera un nettoyage (*sanitization*) et une validation *serverside*\n",
    "- Si la sanitization et la validation sont ok, une page \"Merci de nous avoir contacté.\" s'affichera avec un résumé de l'ensemble des informations encodées.\n",
    "- Implémentation de la technique antispam du *honeypot*\n",
    "\n",
    "**Champs du formulaire**: prénom & nom + email + pays  (liste) + message + genre (H/F) (Radio box) + 3 sujets possibles ((Réparation, Commande, Autres) doit être des checkbox).\n",
    "Tous les champs sont obligatoires, sauf le sujet (dans ce cas, valeur = \"Autre\")\n",
    "\n",
    "### Formulaire de contact (Python)\n",
    "- présentation: architecture serveur/client (transmissif, 10\")\n",
    "- sanitization: neutraliser tout encodage nocif (`<script>`)\n",
    "- validation: champs obligatoires + Email valide\n",
    "- Envoi + Feedback\n",
    "- PAS BESOIN DE JAVASCRIPT, NI DE CSS\n",
    "\n",
    "## À la fin de ce projet vous devez être capable :\n",
    "- D'expliquer la différence entre une requête POST et une requête GET\n",
    "- De vous protéger contre les failles XSS\n",
    "- De vous protéger contre une attaque SSTI\n",
    "- Utilser un micro famework\n",
    "- Faire un déployement\n",
    "\n",
    "\n",
    "\n"
   ]
  },
  {
   "cell_type": "markdown",
   "metadata": {},
   "source": []
  }
 ],
 "metadata": {
  "kernelspec": {
   "display_name": "Python 3",
   "language": "python",
   "name": "python3"
  },
  "language_info": {
   "codemirror_mode": {
    "name": "ipython",
    "version": 3
   },
   "file_extension": ".py",
   "mimetype": "text/x-python",
   "name": "python",
   "nbconvert_exporter": "python",
   "pygments_lexer": "ipython3",
   "version": "3.6.9"
  }
 },
 "nbformat": 4,
 "nbformat_minor": 4
}
